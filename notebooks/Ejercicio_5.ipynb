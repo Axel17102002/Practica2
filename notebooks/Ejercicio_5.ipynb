{
 "cells": [
  {
   "cell_type": "code",
   "execution_count": 4,
   "metadata": {},
   "outputs": [
    {
     "name": "stdout",
     "output_type": "stream",
     "text": [
      "Categoria: Lento\n"
     ]
    }
   ],
   "source": [
    "FAST = 200\n",
    "SLOW = 500\n",
    "str = \"Categoria: \"\n",
    "\n",
    "def definir_velocidad(time):\n",
    "    if FAST < time < SLOW:\n",
    "        return str + \"Normal\"\n",
    "    if time <= FAST:\n",
    "        return str + \"Rapido\"\n",
    "    if time >= SLOW:\n",
    "        return str + \"Lento\"\n",
    "\n",
    "\n",
    "time = int(input(\"Ingrese el tiempo de reacción en ms: \"))\n",
    "print(definir_velocidad(time))"
   ]
  }
 ],
 "metadata": {
  "kernelspec": {
   "display_name": "Python 3",
   "language": "python",
   "name": "python3"
  },
  "language_info": {
   "codemirror_mode": {
    "name": "ipython",
    "version": 3
   },
   "file_extension": ".py",
   "mimetype": "text/x-python",
   "name": "python",
   "nbconvert_exporter": "python",
   "pygments_lexer": "ipython3",
   "version": "3.11.5"
  }
 },
 "nbformat": 4,
 "nbformat_minor": 2
}
