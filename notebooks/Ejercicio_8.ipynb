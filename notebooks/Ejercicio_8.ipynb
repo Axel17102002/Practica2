{
 "cells": [
  {
   "cell_type": "markdown",
   "metadata": {},
   "source": [
    "8. Identificación de anagramas\n",
    "\n",
    "Determine si dos palabras ingresadas son anagramas (contienen las mismas letras en\n",
    "diferente orden)."
   ]
  },
  {
   "cell_type": "code",
   "execution_count": 40,
   "metadata": {},
   "outputs": [],
   "source": [
    "def esAnagrama(word1, word2):\n",
    "    # Convertir ambas palabras a mayúsculas para ignorar diferencias de capitalización\n",
    "    word1 = word1.upper()\n",
    "    word2 = word2.upper()\n",
    "    #verifico que tengan la misma longitud\n",
    "    if len(word1) != len(word2):\n",
    "        return \"No son anagramas.\"\n",
    "    else:\n",
    "        cont = 0 # Contador de coincidencias\n",
    "        length = len(word1) - 1 # Último índice de word2\n",
    "        \n",
    "        for i in range(len(word1)):\n",
    "\n",
    "            if word1[i] == word2[length]: #Comparo los caracteres en orden inverso\n",
    "                cont += 1 #Sumo si hay coincidencia\n",
    "            else:\n",
    "                return \"No son anagramas.\"\n",
    "            \n",
    "            length -= 1\n",
    "        \n",
    "        if cont == len(word1):\n",
    "            return \"Son anagramas.\"\n",
    "        else:\n",
    "            return \"No son anagramas.\""
   ]
  },
  {
   "cell_type": "code",
   "execution_count": 41,
   "metadata": {},
   "outputs": [],
   "source": [
    "def es_Anagrama(word1, word2):\n",
    "    return \"Son anagramas.\" if sorted(word1.upper()) == sorted(word2.upper()) else \"No son anagramas.\""
   ]
  },
  {
   "cell_type": "code",
   "execution_count": 42,
   "metadata": {},
   "outputs": [
    {
     "name": "stdout",
     "output_type": "stream",
     "text": [
      "Detector de Anagramas\n",
      "Son anagramas.\n",
      "Son anagramas.\n"
     ]
    }
   ],
   "source": [
    "print(\"Detector de Anagramas\")\n",
    "word1 = input(\"Ingrese la primer palabra: \")\n",
    "word2 = input(\"Ingrese la segunda palabra: \")\n",
    "\n",
    "print(esAnagrama(word1, word2))\n",
    "print(es_Anagrama(word1, word2))"
   ]
  }
 ],
 "metadata": {
  "kernelspec": {
   "display_name": "Python 3",
   "language": "python",
   "name": "python3"
  },
  "language_info": {
   "codemirror_mode": {
    "name": "ipython",
    "version": 3
   },
   "file_extension": ".py",
   "mimetype": "text/x-python",
   "name": "python",
   "nbconvert_exporter": "python",
   "pygments_lexer": "ipython3",
   "version": "3.11.5"
  }
 },
 "nbformat": 4,
 "nbformat_minor": 2
}
