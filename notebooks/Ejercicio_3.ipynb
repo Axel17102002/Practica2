{
 "cells": [
  {
   "cell_type": "code",
   "execution_count": 19,
   "id": "7abe8e42-826f-4a8a-8eff-29ca29d9fbff",
   "metadata": {},
   "outputs": [],
   "source": [
    "rules = \"\"\"Respeta a los demás. No se permiten insultos ni lenguaje ofensivo.\n",
    "Evita el spam. No publiques enlaces sospechosos o repetitivos.\n",
    "No compartas información personal.\n",
    "Usa los canales adecuados para cada tema.\n",
    "Sigue las instrucciones de los moderadores.\"\"\"\n",
    "\n",
    "sentences = rules.splitlines()"
   ]
  },
  {
   "cell_type": "code",
   "execution_count": 20,
   "id": "6466ad26-0cec-41b3-af0c-4742b3308634",
   "metadata": {},
   "outputs": [],
   "source": [
    "def buscar_palabra(rules, word):\n",
    "    sentences = rules.splitlines()  # Dividimos las reglas en oraciones\n",
    "    for num in range(len(sentences)):  # Recorremos cada oración\n",
    "        words = sentences[num].split(\" \")  # Dividimos cada oración en palabras\n",
    "        for w in words:  # Recorremos cada palabra\n",
    "            if w == word:  # Si encontramos la palabra\n",
    "                return num  # Retornamos el índice de la oración\n",
    "    return None  # Si no se encuentra la palabra, retornamos None\n",
    "            "
   ]
  },
  {
   "cell_type": "code",
   "execution_count": null,
   "id": "acf6d8d1",
   "metadata": {},
   "outputs": [],
   "source": []
  },
  {
   "cell_type": "code",
   "execution_count": 21,
   "id": "5550347e",
   "metadata": {},
   "outputs": [
    {
     "name": "stdout",
     "output_type": "stream",
     "text": [
      "La palabra 'Usa' se encuentra en la siguiente oración:\n",
      "Usa los canales adecuados para cada tema.\n"
     ]
    }
   ],
   "source": [
    "word = input(\"Ingrese la palabra clave: \")\n",
    "position = buscar_palabra(rules, word)\n",
    "if position is not None:\n",
    "    # Imprimir la oración que contiene la palabra\n",
    "    print(f\"La palabra '{word}' se encuentra en la siguiente oración:\")\n",
    "    print(sentences[position])\n",
    "else:\n",
    "    print(\"La palabra no fue encontrada.\")"
   ]
  }
 ],
 "metadata": {
  "kernelspec": {
   "display_name": "Python 3 (ipykernel)",
   "language": "python",
   "name": "python3"
  },
  "language_info": {
   "codemirror_mode": {
    "name": "ipython",
    "version": 3
   },
   "file_extension": ".py",
   "mimetype": "text/x-python",
   "name": "python",
   "nbconvert_exporter": "python",
   "pygments_lexer": "ipython3",
   "version": "3.11.5"
  }
 },
 "nbformat": 4,
 "nbformat_minor": 5
}
