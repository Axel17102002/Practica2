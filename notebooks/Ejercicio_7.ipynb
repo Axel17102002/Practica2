{
 "cells": [
  {
   "cell_type": "code",
   "execution_count": 59,
   "metadata": {},
   "outputs": [],
   "source": [
    "import random\n",
    "import string\n",
    "from datetime import datetime\n",
    "\n",
    "LENGTH = 30\n",
    "# random.choice(string.ascii_lowercase) elije un caracter random en minuscula\n",
    "#random.choice(string.ascii_uppercase) Elije un caracter en mayuscula"
   ]
  },
  {
   "cell_type": "code",
   "execution_count": 60,
   "metadata": {},
   "outputs": [],
   "source": [
    "def Generador_Codigos(user,date):\n",
    "    if len(user) > 15:\n",
    "        return \"INVALIDO\"\n",
    "    else:\n",
    "        codigo = user + \"-\" + str(date.year) + str(date.month).zfill(2) + str(date.day).zfill(2)+ \"-\"\n",
    "        \n",
    "        while len(codigo) <LENGTH: #Para que tenga longitud 30\n",
    "            num = random.randint(1, 2)\n",
    "            if num == 1:\n",
    "                codigo = codigo + random.choice(string.ascii_uppercase) #Agrega un caracter en mayuscula random\n",
    "            else:\n",
    "                codigo = codigo + str(random.randint(0, 9)) #Agrega un numero random del 0 al 9\n",
    "        return codigo"
   ]
  },
  {
   "cell_type": "code",
   "execution_count": 61,
   "metadata": {},
   "outputs": [
    {
     "name": "stdout",
     "output_type": "stream",
     "text": [
      "Código de descuento: AXEL!&!)@))@-20250330-LSVX5KOS\n"
     ]
    }
   ],
   "source": [
    "user = input(\"Ingrese el nombre de usuario: \")\n",
    "date = datetime.now()\n",
    "\n",
    "print(f\"Código de descuento: {Generador_Codigos(user,date)}\")"
   ]
  }
 ],
 "metadata": {
  "kernelspec": {
   "display_name": "Python 3",
   "language": "python",
   "name": "python3"
  },
  "language_info": {
   "codemirror_mode": {
    "name": "ipython",
    "version": 3
   },
   "file_extension": ".py",
   "mimetype": "text/x-python",
   "name": "python",
   "nbconvert_exporter": "python",
   "pygments_lexer": "ipython3",
   "version": "3.11.5"
  }
 },
 "nbformat": 4,
 "nbformat_minor": 2
}
