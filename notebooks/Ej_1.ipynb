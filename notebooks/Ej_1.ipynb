{
 "cells": [
  {
   "cell_type": "code",
   "execution_count": 39,
   "metadata": {},
   "outputs": [],
   "source": [
    "import this\n",
    "import codecs\n",
    "\n",
    "\n",
    "zen_of_python = codecs.decode(this.s, \"rot_13\")  # Decodifica ROT13\n",
    "\n",
    "sentence  = zen_of_python.splitlines()\n",
    "sentence_words = []\n",
    "vocals = [\"A\",\"a\",\"E\",\"e\",\"I\",\"i\",\"O\",\"o\",\"U\",\"u\"]\n",
    "\n"
   ]
  },
  {
   "cell_type": "code",
   "execution_count": 38,
   "metadata": {},
   "outputs": [
    {
     "name": "stdout",
     "output_type": "stream",
     "text": [
      "Beautiful is better than ugly.\n",
      "Explicit is better than implicit.\n",
      "Simple is better than complex.\n",
      "Complex is better than complicated.\n",
      "Flat is better than nested.\n",
      "Sparse is better than dense.\n",
      "Unless explicitly silenced.\n",
      "Now is better than never.\n",
      "Namespaces are one honking great idea -- let's do more of those!\n"
     ]
    }
   ],
   "source": [
    "for line in sentence: \n",
    "    list_of_words = line.split()  # Divide cada línea en palabras\n",
    "    if len(list_of_words) > 1 and list_of_words[1][0] in vocals:\n",
    "        print(line)\n",
    "    \"\"\"linea = \"\"\n",
    "        for elem in list_of_words:\n",
    "            linea= linea +\" \"+  elem\n",
    "        print(linea)\n",
    "        #sentence_words.append(list_of_words)\n",
    "    \n",
    "    \"\"\""
   ]
  },
  {
   "cell_type": "code",
   "execution_count": 23,
   "metadata": {},
   "outputs": [
    {
     "name": "stdout",
     "output_type": "stream",
     "text": [
      "['The', 'Zen', 'of', 'Python,', 'by', 'Tim', 'Peters']\n",
      "Zen\n"
     ]
    }
   ],
   "source": [
    "print(sentence_words[0])    # Primera oración como lista de palabras\n",
    "print(sentence_words[0][1]) # Segunda palabra de la primera oración (si existe)"
   ]
  }
 ],
 "metadata": {
  "kernelspec": {
   "display_name": "Python 3",
   "language": "python",
   "name": "python3"
  },
  "language_info": {
   "codemirror_mode": {
    "name": "ipython",
    "version": 3
   },
   "file_extension": ".py",
   "mimetype": "text/x-python",
   "name": "python",
   "nbconvert_exporter": "python",
   "pygments_lexer": "ipython3",
   "version": "3.11.5"
  }
 },
 "nbformat": 4,
 "nbformat_minor": 2
}
