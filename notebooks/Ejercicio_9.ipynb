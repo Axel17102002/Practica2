{
 "cells": [
  {
   "cell_type": "code",
   "execution_count": 67,
   "metadata": {},
   "outputs": [],
   "source": [
    "clients = [\n",
    "\" Ana López \", \"Pedro Gómez\", \"maria martínez\", \"Pedro Gómez \", \"\",\n",
    "\" Luis Rodríguez \", None, \"ana lópez\", \"JUAN PÉREZ\", \"MARTA SUÁREZ\",\n",
    "\"luis rodríguez\", \"maría martínez \", \" claudia torres\", \"CLAUDIA TORRES\",\n",
    "\" \", \"pedro gómez\", \"Juan Pérez\", None, \"Ricardo Fernández\", \"LAURA RAMOS\",\n",
    "\"carlos mendes\", \"RICARDO FERNÁNDEZ \", \" Laura ramos\", \"CARLOS MENDES\",\n",
    "\"alejandro gonzález\", \" ALEJANDRO GONZÁLEZ\" , \"Patricia Vega\",\n",
    "\"patricia VEGA\", \"Andrés Ocampo\", \" andrés ocampo\", \"Monica Herrera\",\n",
    "\"MONICA HERRERA \", \"gabriela ruíz\", \"Gabriela Ruíz\", \"sandra morales\",\n",
    "\"SANDRA MORALES\", \"miguel ángel\", \"Miguel Ángel \", \" Damián Castillo\",\n",
    "\"Damián Castillo \", None, \"\", \" \"\n",
    "]"
   ]
  },
  {
   "cell_type": "code",
   "execution_count": 68,
   "metadata": {},
   "outputs": [],
   "source": [
    "\n",
    "def clean_list(clients):\n",
    "    clean_clients_list =[]\n",
    "    def normalizar_nombre(name):\n",
    "        name = name.strip()\n",
    "        name = name.title()\n",
    "        return name\n",
    "    \n",
    "    for name in clients:\n",
    "        if not name or name.strip() == \"\":\n",
    "            continue\n",
    "        else:\n",
    "            name = normalizar_nombre(name)\n",
    "            if name not in clean_clients_list:\n",
    "                clean_clients_list.append(name)\n",
    "            else:\n",
    "                pass\n",
    "    clean_clients_list.sort()\n",
    "    return clean_clients_list\n",
    "\n"
   ]
  },
  {
   "cell_type": "code",
   "execution_count": 69,
   "metadata": {},
   "outputs": [
    {
     "name": "stdout",
     "output_type": "stream",
     "text": [
      "[' Ana López ', 'Pedro Gómez', 'maria martínez', 'Pedro Gómez ', '', ' Luis Rodríguez ', None, 'ana lópez', 'JUAN PÉREZ', 'MARTA SUÁREZ', 'luis rodríguez', 'maría martínez ', ' claudia torres', 'CLAUDIA TORRES', ' ', 'pedro gómez', 'Juan Pérez', None, 'Ricardo Fernández', 'LAURA RAMOS', 'carlos mendes', 'RICARDO FERNÁNDEZ ', ' Laura ramos', 'CARLOS MENDES', 'alejandro gonzález', ' ALEJANDRO GONZÁLEZ', 'Patricia Vega', 'patricia VEGA', 'Andrés Ocampo', ' andrés ocampo', 'Monica Herrera', 'MONICA HERRERA ', 'gabriela ruíz', 'Gabriela Ruíz', 'sandra morales', 'SANDRA MORALES', 'miguel ángel', 'Miguel Ángel ', ' Damián Castillo', 'Damián Castillo ', None, '', ' ']\n",
      "['Alejandro González', 'Ana López', 'Andrés Ocampo', 'Carlos Mendes', 'Claudia Torres', 'Damián Castillo', 'Gabriela Ruíz', 'Juan Pérez', 'Laura Ramos', 'Luis Rodríguez', 'Maria Martínez', 'Marta Suárez', 'María Martínez', 'Miguel Ángel', 'Monica Herrera', 'Patricia Vega', 'Pedro Gómez', 'Ricardo Fernández', 'Sandra Morales']\n"
     ]
    }
   ],
   "source": [
    "list_of_clients = []\n",
    "\n",
    "print(clients)\n",
    "\n",
    "list_of_clients = clean_list(clients)\n",
    "\n",
    "print(list_of_clients)"
   ]
  },
  {
   "cell_type": "code",
   "execution_count": null,
   "metadata": {},
   "outputs": [],
   "source": []
  }
 ],
 "metadata": {
  "kernelspec": {
   "display_name": "Python 3",
   "language": "python",
   "name": "python3"
  },
  "language_info": {
   "codemirror_mode": {
    "name": "ipython",
    "version": 3
   },
   "file_extension": ".py",
   "mimetype": "text/x-python",
   "name": "python",
   "nbconvert_exporter": "python",
   "pygments_lexer": "ipython3",
   "version": "3.11.5"
  }
 },
 "nbformat": 4,
 "nbformat_minor": 2
}
