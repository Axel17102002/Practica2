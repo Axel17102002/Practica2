{
 "cells": [
  {
   "cell_type": "code",
   "execution_count": 7,
   "metadata": {},
   "outputs": [],
   "source": [
    "descriptions = [\n",
    "    \"Streaming de música en vivo con covers y composiciones\",\n",
    "    \"Charla interactiva con la audiencia sobre series y películas\",\n",
    "    \"Jugamos a juegos retro y charlamos sobre su historia\",\n",
    "    \"Exploramos la mejor música de los 80s y 90s\",\n",
    "    \"Programa de entretenimiento con noticias y curiosidades del mundogamer\",\n",
    "    \"Sesión de charla con invitados especiales del mundo del streaming\",\n",
    "    \"Música en directo con improvisaciones y peticiones del chat\",\n",
    "    \"Un espacio para charlar relajada sobre tecnología y cultura digital\",\n",
    "    \"Exploramos el impacto de la música en los videojuegos clásicos\"\n",
    "]\n"
   ]
  },
  {
   "cell_type": "code",
   "execution_count": 8,
   "metadata": {},
   "outputs": [],
   "source": [
    "def contadorPalabras(descriptions, conteo):\n",
    "    for sentence in descriptions:\n",
    "        sentence = sentence.lower() #Pongo la oracion tada en minuscula\n",
    "        words = sentence.split(\" \") #Separo la oración por palabra\n",
    "        \n",
    "        for word in words:\n",
    "            if word in conteo:  # Verificamos si la palabra está en el diccionario\n",
    "                conteo[word] += 1  # Incrementamos la cuenta\n",
    "    \n",
    "    return conteo  # Retornamos el diccionario con las palabras contadas\n"
   ]
  },
  {
   "cell_type": "code",
   "execution_count": 9,
   "metadata": {},
   "outputs": [
    {
     "name": "stdout",
     "output_type": "stream",
     "text": [
      "{'charla': 2, 'música': 4}\n",
      "Menciones de 'charla':2\n",
      "Menciones de 'música':4\n"
     ]
    }
   ],
   "source": [
    "\n",
    "conteo = {}  # Diccionario para almacenar las ocurrencias\n",
    "word = input(\"Ingresa la/s palabra/s a buscar (<zzz> para finalizar): \").strip().lower()\n",
    "while word != \"zzz\":\n",
    "    if word:\n",
    "        conteo[word] = 0 #Agrego la palabra al diccionario y lo inicializo en 0\n",
    "    word = input(\"Ingresa la/s palabra/s a buscar (<zzz> para finalizar): \").strip().lower()\n",
    "\n",
    "conteo = contadorPalabras(descriptions,conteo) \n",
    "\n",
    "#print(conteo) asi imprimo la estrucctura del diccionario\n",
    "for word, cantidad in conteo.items():\n",
    "    print(f\"Menciones de '{word}':{cantidad}\") #Imprimo el diccionario\n"
   ]
  }
 ],
 "metadata": {
  "kernelspec": {
   "display_name": "Python 3",
   "language": "python",
   "name": "python3"
  },
  "language_info": {
   "codemirror_mode": {
    "name": "ipython",
    "version": 3
   },
   "file_extension": ".py",
   "mimetype": "text/x-python",
   "name": "python",
   "nbconvert_exporter": "python",
   "pygments_lexer": "ipython3",
   "version": "3.11.5"
  }
 },
 "nbformat": 4,
 "nbformat_minor": 2
}
