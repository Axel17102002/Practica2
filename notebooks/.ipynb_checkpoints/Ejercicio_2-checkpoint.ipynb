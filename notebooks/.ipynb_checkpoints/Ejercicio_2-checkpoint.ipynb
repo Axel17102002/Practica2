{
 "cells": [
  {
   "cell_type": "code",
   "execution_count": null,
   "id": "855822b3-e333-427b-a89b-cfdaac9bb7ad",
   "metadata": {},
   "outputs": [],
   "source": [
    "def titulo_mas_largo(titles):\n",
    "    max_length = -1  # Inicializamos \n",
    "    position = -1\n",
    "    for num in range(len(titles)):\n",
    "        palabras = titles[num].split()  # Creo una nueva lista para contar las palabras\n",
    "        if len(palabras) > max_length:\n",
    "            position = num\n",
    "            max_length = len(palabras)  # Guardo la longitud maxima\n",
    "    \n",
    "    return position  # Retornamos el índice del título más largo"
   ]
  },
  {
   "cell_type": "code",
   "execution_count": null,
   "id": "614c70a5-9877-465b-8cda-69602e784036",
   "metadata": {},
   "outputs": [],
   "source": [
    "titles = [ \"Speedrun de Super Mario en tiempo récord\",\n",
    "           \"Charla sobre desarrollo de videojuegos\",\n",
    "           \"Jugando al nuevo FPS del momento con amigos\",\n",
    "           \"Música en vivo: improvisaciones al piano\"\n",
    "]\n",
    "pos = titulo_mas_largo(titles)# Guardo la posicion del titlo mas largo\n",
    "print(f\"El titulo mas largo es: \\\"{titles[pos]}\\\"\") \n",
    "# print(f'El titulo mas largo es: \"{titles[pos]}\"') otra manera para las comillas es asi\n"
   ]
  }
 ],
 "metadata": {
  "kernelspec": {
   "display_name": "Python 3 (ipykernel)",
   "language": "python",
   "name": "python3"
  },
  "language_info": {
   "codemirror_mode": {
    "name": "ipython",
    "version": 3
   },
   "file_extension": ".py",
   "mimetype": "text/x-python",
   "name": "python",
   "nbconvert_exporter": "python",
   "pygments_lexer": "ipython3",
   "version": "3.11.5"
  }
 },
 "nbformat": 4,
 "nbformat_minor": 5
}
