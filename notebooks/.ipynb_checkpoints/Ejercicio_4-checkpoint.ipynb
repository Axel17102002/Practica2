{
 "cells": [
  {
   "cell_type": "code",
   "execution_count": 11,
   "metadata": {},
   "outputs": [],
   "source": [
    "import re\n",
    "\n",
    "STRING1 = \"El nombre de usuario no cumple con los requisitos.\""
   ]
  },
  {
   "cell_type": "code",
   "execution_count": 12,
   "metadata": {},
   "outputs": [],
   "source": [
    "def user_validation(username):\n",
    "    if len(username) < 5:\n",
    "        return(STRING1)\n",
    "    if not re.search(r'[0-9]', username):\n",
    "        return(STRING1)\n",
    "    if not re.search(r'[A-Z]', username):\n",
    "        return(STRING1)\n",
    "    if not re.search(r'[a-z]', username):\n",
    "        return(STRING1)\n",
    "    return \"El nombre de usuario es válido.\""
   ]
  },
  {
   "cell_type": "code",
   "execution_count": 13,
   "metadata": {},
   "outputs": [
    {
     "name": "stdout",
     "output_type": "stream",
     "text": [
      "El nombre de usuario no cumple con los requisitos.\n"
     ]
    }
   ],
   "source": [
    "username = input(\"Ingrese el nombre de usuario: \")\n",
    "print(user_validation(username))"
   ]
  }
 ],
 "metadata": {
  "kernelspec": {
   "display_name": "Python 3",
   "language": "python",
   "name": "python3"
  },
  "language_info": {
   "codemirror_mode": {
    "name": "ipython",
    "version": 3
   },
   "file_extension": ".py",
   "mimetype": "text/x-python",
   "name": "python",
   "nbconvert_exporter": "python",
   "pygments_lexer": "ipython3",
   "version": "3.11.5"
  }
 },
 "nbformat": 4,
 "nbformat_minor": 2
}
