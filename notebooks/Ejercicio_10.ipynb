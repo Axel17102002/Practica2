{
 "cells": [
  {
   "cell_type": "markdown",
   "id": "d1afd471",
   "metadata": {},
   "source": [
    "1. Importamos todas las funciones que necesitemos que estan en la carpeta src\n",
    "2. Importo las rondas de las partidas del archivo data.py\n"
   ]
  },
  {
   "cell_type": "code",
   "execution_count": 1,
   "id": "e3341174",
   "metadata": {},
   "outputs": [],
   "source": [
    "\n",
    "import sys\n",
    "sys.path.append('../src')  # Esto le dice a Python que busque en la carpeta src\n",
    "\n",
    "from funciones import imprimir_tabla, create_stats, estadisticas_totales, sorting_player_stats\n",
    "from data import rounds as r"
   ]
  },
  {
   "cell_type": "code",
   "execution_count": 2,
   "id": "840aeafe",
   "metadata": {},
   "outputs": [
    {
     "name": "stdout",
     "output_type": "stream",
     "text": [
      "\n",
      "Ranking ronda 1:\n",
      "\n",
      "Jugador    Kills    Asistencias    Muertes    MVPs    Puntos\n",
      "------------------------------------------------------------\n",
      "Shadow          2            1        1      1       6\n",
      "Viper           1            2        1      0       4\n",
      "Reaper          1            1        0      0       4\n",
      "Blaze           1            0        0      0       3\n",
      "Frost           0            1        0      0       1\n",
      "------------------------------------------------------------\n",
      "\n",
      "Ranking ronda 2:\n",
      "\n",
      "Jugador    Kills    Asistencias    Muertes    MVPs    Puntos\n",
      "------------------------------------------------------------\n",
      "Frost           2            1        1      1       6\n",
      "Blaze           2            0        1      0       5\n",
      "Viper           1            1        0      0       4\n",
      "Shadow          0            2        0      0       2\n",
      "Reaper          0            1        0      0       1\n",
      "------------------------------------------------------------\n",
      "\n",
      "Ranking ronda 3:\n",
      "\n",
      "Jugador    Kills    Asistencias    Muertes    MVPs    Puntos\n",
      "------------------------------------------------------------\n",
      "Blaze           2            2        1      1       7\n",
      "Reaper          1            1        0      0       4\n",
      "Shadow          1            0        0      0       3\n",
      "Viper           1            1        1      0       3\n",
      "Frost           0            1        0      0       1\n",
      "------------------------------------------------------------\n",
      "\n",
      "Ranking ronda 4:\n",
      "\n",
      "Jugador    Kills    Asistencias    Muertes    MVPs    Puntos\n",
      "------------------------------------------------------------\n",
      "Shadow          2            1        0      1       7\n",
      "Reaper          1            1        0      0       4\n",
      "Frost           1            1        1      0       3\n",
      "Blaze           1            0        1      0       2\n",
      "Viper           0            2        0      0       2\n",
      "------------------------------------------------------------\n",
      "\n",
      "Ranking ronda 5:\n",
      "\n",
      "Jugador    Kills    Asistencias    Muertes    MVPs    Puntos\n",
      "------------------------------------------------------------\n",
      "Viper           2            0        1      1       5\n",
      "Shadow          1            2        1      0       4\n",
      "Frost           1            1        0      0       4\n",
      "Reaper          1            1        1      0       3\n",
      "Blaze           0            1        0      0       1\n",
      "------------------------------------------------------------\n",
      "Ranking final:\n",
      "Jugador    Kills    Asistencias    Muertes    MVPs    Puntos\n",
      "------------------------------------------------------------\n",
      "Shadow          6            6        2      2      22\n",
      "Viper           5            6        3      1      18\n",
      "Blaze           6            3        3      1      18\n",
      "Reaper          4            5        1      0      16\n",
      "Frost           4            5        2      1      15\n",
      "------------------------------------------------------------\n"
     ]
    }
   ],
   "source": [
    "# Diccionario que va a acumular los resultados totales de todos los jugadores\n",
    "total_round_stats = {}\n",
    "#Contador para mostrar el numero de ronda\n",
    "i=1\n",
    "\n",
    "# Iteramos cada ronda\n",
    "for round in r:\n",
    "    print(f\"\\nRanking ronda {i}:\\n\")\n",
    "    i+=1\n",
    "    # Calculamos las estadísticas de la ronda actual (kills, asistencias, muertes, puntos, MVP)\n",
    "    estadisticas_ronda = create_stats(round)\n",
    "    \n",
    "    # Mostramos en pantalla la tabla con los resultados de esta ronda\n",
    "    imprimir_tabla(estadisticas_ronda)\n",
    "    #Sumamos las estadisticas de la ronda actual al diccionario que va a acumular los totales\n",
    "    estadisticas_totales(estadisticas_ronda,total_round_stats)\n",
    "\n",
    "#Ordeno el ranking total de manera decreciente\n",
    "total_round_stats = dict(sorting_player_stats(total_round_stats))\n",
    "\n",
    "#Mostramos el ranking final\n",
    "print('Ranking final:')\n",
    "imprimir_tabla(total_round_stats)"
   ]
  }
 ],
 "metadata": {
  "kernelspec": {
   "display_name": "Python 3 (ipykernel)",
   "language": "python",
   "name": "python3"
  },
  "language_info": {
   "codemirror_mode": {
    "name": "ipython",
    "version": 3
   },
   "file_extension": ".py",
   "mimetype": "text/x-python",
   "name": "python",
   "nbconvert_exporter": "python",
   "pygments_lexer": "ipython3",
   "version": "3.11.5"
  }
 },
 "nbformat": 4,
 "nbformat_minor": 5
}
